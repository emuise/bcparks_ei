{
 "cells": [
  {
   "cell_type": "code",
   "execution_count": 1,
   "metadata": {},
   "outputs": [],
   "source": [
    "import os\n",
    "import geopandas as gpd\n",
    "import time\n",
    "\n",
    "from shapely.geometry import shape, mapping\n",
    "from shapely.ops import unary_union\n",
    "import fiona\n",
    "import itertools"
   ]
  },
  {
   "cell_type": "code",
   "execution_count": 2,
   "metadata": {},
   "outputs": [],
   "source": [
    "scratch = os.path.join(\"..\", \"scratch\")\n",
    "shapefiles_loc = os.path.join(\"..\", \"data\", \"shapefiles\")"
   ]
  },
  {
   "cell_type": "code",
   "execution_count": 3,
   "metadata": {},
   "outputs": [],
   "source": [
    "bec_loc = os.path.join(shapefiles_loc, \"bec_zones.shp\")\n",
    "bc_ppa = gpd.read_file(os.path.join(shapefiles_loc, \"bc_ppa.shp\"))\n",
    "bc_boundary = gpd.read_file(os.path.join(shapefiles_loc, \"bc_boundary.shp\"))\n",
    "bc_bounds_simple = gpd.read_file(os.path.join(shapefiles_loc, \"bc_boundary_simplified.shp\"))"
   ]
  },
  {
   "cell_type": "code",
   "execution_count": 9,
   "metadata": {},
   "outputs": [
    {
     "name": "stdout",
     "output_type": "stream",
     "text": [
      "472.14177942276\n"
     ]
    }
   ],
   "source": [
    "bec = gpd.read_file(bec_loc)\n",
    "bec = bec[['zone', 'subzone', 'geometry']]\n",
    "start_time = time.time()\n",
    "bec_dissolve = bec.dissolve(by = ['zone', 'subzone'], as_index = False)\n",
    "\n",
    "dissolve_loc = os.path.join(scratch, \"bec_subzones.shp\")\n",
    "bec_dissolve.to_file(os.path.join(dissolve_loc))\n",
    "end_time = time.time()\n",
    "\n",
    "print(end_time - start_time)"
   ]
  },
  {
   "cell_type": "code",
   "execution_count": 12,
   "metadata": {},
   "outputs": [
    {
     "name": "stdout",
     "output_type": "stream",
     "text": [
      "exploding\n",
      "clipping\n",
      "saving clip\n"
     ]
    }
   ],
   "source": [
    "subzones_loc = os.path.join(shapefiles_loc, \"bec_subzones.shp\")\n",
    "\n",
    "print(\"exploding\")\n",
    "bec_exploded = bec_dissolve.explode()\n",
    "bec_exploded.to_file(os.path.join(scratch, \"bec_exploded.shp\")) \n",
    "\n",
    "print(\"clipping\")\n",
    "bec_subzones_terr = gpd.clip(bec_exploded, bc_boundary)\n",
    "\n",
    "print(\"saving clip\")\n",
    "bec_subzones_terr.to_file(subzones_loc)"
   ]
  },
  {
   "cell_type": "code",
   "execution_count": 13,
   "metadata": {},
   "outputs": [
    {
     "name": "stdout",
     "output_type": "stream",
     "text": [
      "67761.70734667778\n"
     ]
    }
   ],
   "source": [
    "start_time = time.time()\n",
    "print(\"unionizing\") #lol\n",
    "bc_ppa_bec_hres = gpd.overlay(bec_subzones_terr, bc_ppa, how = \"union\")\n",
    "print(time.time() - start_time)\n",
    "print(\"saving\")\n",
    "bc_ppa_bec_hres.to_file(os.path.join(shapefiles_loc, \"bc_ppa_bec_hres.shp\"))\n",
    "end_time = time.time()\n",
    "\n",
    "print(end_time - start_time)"
   ]
  }
 ],
 "metadata": {
  "kernelspec": {
   "display_name": "Python 3",
   "language": "python",
   "name": "python3"
  },
  "language_info": {
   "codemirror_mode": {
    "name": "ipython",
    "version": 3
   },
   "file_extension": ".py",
   "mimetype": "text/x-python",
   "name": "python",
   "nbconvert_exporter": "python",
   "pygments_lexer": "ipython3",
   "version": "3.8.6"
  }
 },
 "nbformat": 4,
 "nbformat_minor": 4
}
