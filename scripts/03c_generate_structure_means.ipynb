{
 "cells": [
  {
   "cell_type": "code",
   "execution_count": 7,
   "id": "a9d2a27b",
   "metadata": {},
   "outputs": [],
   "source": [
    "# base\n",
    "import pandas as pd\n",
    "import os, time\n",
    "from multiprocessing import Pool, cpu_count\n",
    "\n",
    "# my function\n",
    "from mosaic_rasters_functions import summarize_structure"
   ]
  },
  {
   "cell_type": "code",
   "execution_count": 8,
   "id": "e0cf75b4",
   "metadata": {},
   "outputs": [],
   "source": [
    "# generate list of csv files to iterate through\n",
    "csv_dir = os.path.join(\"..\", \"data\", \"all_vars\", \"sampled\")\n",
    "csv_list = []\n",
    "for file in os.listdir(csv_dir):\n",
    "    if file.endswith(\".csv\"):\n",
    "        csv_list.append(os.path.join(csv_dir, file))"
   ]
  },
  {
   "cell_type": "code",
   "execution_count": 10,
   "id": "0a9e1874",
   "metadata": {},
   "outputs": [
    {
     "name": "stdout",
     "output_type": "stream",
     "text": [
      "59.80458617210388\n"
     ]
    }
   ],
   "source": [
    "start_time = time.time()\n",
    "if __name__ == '__main__':\n",
    "    with Pool() as pool:\n",
    "        out_dfs = pool.map(summarize_structure, csv_list)\n",
    "        \n",
    "pd.concat(out_dfs).to_csv(os.path.join(\"..\", \"data\", \"structure_means.csv\"))\n",
    "print(time.time() - start_time)"
   ]
  },
  {
   "cell_type": "code",
   "execution_count": null,
   "id": "51135789",
   "metadata": {},
   "outputs": [],
   "source": []
  }
 ],
 "metadata": {
  "kernelspec": {
   "display_name": "Python 3 (ipykernel)",
   "language": "python",
   "name": "python3"
  },
  "language_info": {
   "codemirror_mode": {
    "name": "ipython",
    "version": 3
   },
   "file_extension": ".py",
   "mimetype": "text/x-python",
   "name": "python",
   "nbconvert_exporter": "python",
   "pygments_lexer": "ipython3",
   "version": "3.8.10"
  }
 },
 "nbformat": 4,
 "nbformat_minor": 5
}
