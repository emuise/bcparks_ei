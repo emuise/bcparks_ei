{
 "cells": [
  {
   "cell_type": "code",
   "execution_count": null,
   "metadata": {},
   "outputs": [],
   "source": [
    "import os\n",
    "import osgeo\n",
    "from osgeo import gdal, ogr\n",
    "from gdalconst import GA_ReadOnly\n",
    "from IPython.display import clear_output\n",
    "import itertools\n",
    "import numpy as np\n",
    "import pandas as pd\n",
    "from geopandas import GeoDataFrame\n",
    "import rasterio\n",
    "import rasterio.features\n",
    "from shapely.geometry import shape\n",
    "from multiprocessing import Pool, cpu_count\n",
    "import time\n",
    "\n",
    "#my things\n",
    "import raster_mask_to_shapefile\n",
    "\n",
    "gdal.UseExceptions()"
   ]
  },
  {
   "cell_type": "markdown",
   "metadata": {},
   "source": [
    "Get the extent of BC to merge the rasters together (currently not used due to time procesing times)"
   ]
  },
  {
   "cell_type": "code",
   "execution_count": 4,
   "metadata": {},
   "outputs": [],
   "source": [
    "bc_boundary = os.path.join(\"..\", \"data\", \"shapefiles\", \"bc_boundary.shp\")\n",
    "\n",
    "in_driver = ogr.GetDriverByName(\"ESRI Shapefile\")\n",
    "data = in_driver.Open(bc_boundary, 0)\n",
    "layer = data.GetLayer()\n",
    "for feature in layer:\n",
    "    bc_extent = feature.GetGeometryRef().GetEnvelope()"
   ]
  },
  {
   "cell_type": "code",
   "execution_count": 5,
   "metadata": {},
   "outputs": [],
   "source": [
    "structure_variables = [\"loreys_height\", \"total_biomass\", \"percentage_first_returns_above_2m\"]\n",
    "vlce_variables = [\"vlce\"]\n",
    "utm_variables = [\"Logic_Rules_Change_Attribution\"]\n",
    "\n",
    "structure_vlce_years = list(range(1984, 2020))\n",
    "utm_years = list(range(1985, 2019))\n",
    "\n",
    "structure_years_variables = itertools.product(structure_variables, structure_vlce_years)\n",
    "vlce_years_variables = itertools.product(vlce_variables, structure_vlce_years)\n",
    "utm_years_variables = itertools.product(utm_variables, utm_years)\n",
    "\n",
    "years_variables = [item for item in utm_years_variables] + [item for item in vlce_years_variables] + [item for item in structure_years_variables]\n",
    "\n",
    "zones = list(range(7, 12)) #12 because python needs the + 1\n",
    "\n",
    "#print(years_variables)"
   ]
  },
  {
   "cell_type": "markdown",
   "metadata": {},
   "source": [
    "Generate mask polygons from Txomin's raster masks\n",
    "\n",
    "Function from Nick Leach with minor edits\n",
    "\n",
    "Throws a depreciated warnings due to the CRS that I can't figure out how to fix, but as of March 2021, it still works"
   ]
  },
  {
   "cell_type": "code",
   "execution_count": 11,
   "metadata": {},
   "outputs": [],
   "source": [
    "def raster_mask_to_shapefile(raster, outname=\"vectorized.shp\", outdir=None):\n",
    "    \"\"\"\n",
    "    Generate a shapefile with a single feature outlining the extent of the input raster.\n",
    "    There is probably a better way to do this, but this works...\n",
    "    :param raster: (str) path to raster to vectorize\n",
    "    :param outname: (str) name of the generated shapefile\n",
    "    :param outdir: (str) if given, save the output to this folder\n",
    "    :return:\n",
    "    \"\"\"\n",
    "    start_time = time.time()\n",
    "    if outdir:\n",
    "        # if outdir is specified, save the clipped raster there\n",
    "        outpath = os.path.join(outdir, outname)\n",
    "    else:\n",
    "        # otherwise, save to the same folder as the input raster\n",
    "        outpath = os.path.join(os.path.split(raster)[0], outname)\n",
    "    d = dict()\n",
    "    d['val'] = []\n",
    "    geometry = []\n",
    "    with rasterio.open(raster, 'r') as src:\n",
    "        empty = src.read(1)\n",
    "        for shp, val in rasterio.features.shapes(source=empty, transform=src.transform):\n",
    "            d['val'].append(val)\n",
    "            geometry.append(shape(shp))\n",
    "        raster_crs = src.crs\n",
    "    df = pd.DataFrame(data=d)\n",
    "    geo_df = GeoDataFrame(df, crs={'init': raster_crs['init']}, geometry=geometry)\n",
    "    geo_df['area'] = geo_df.area\n",
    "    geo_df = geo_df[geo_df[\"val\"] == 1]\n",
    "    geo_df.to_file(outpath, driver=\"ESRI Shapefile\")\n",
    "    end_time = time.time()\n",
    "    \n",
    "    print(end_time - start_time)\n",
    "    return outpath"
   ]
  },
  {
   "cell_type": "code",
   "execution_count": 10,
   "metadata": {},
   "outputs": [
    {
     "data": {
      "text/plain": [
       "[('..\\\\data\\\\non_overlapping_masks\\\\UTM7S_vld_ext.dat', 'UTM_7S_mask.shp'),\n",
       " ('..\\\\data\\\\non_overlapping_masks\\\\UTM8S_vld_ext.dat', 'UTM_8S_mask.shp'),\n",
       " ('..\\\\data\\\\non_overlapping_masks\\\\UTM9S_vld_ext.dat', 'UTM_9S_mask.shp'),\n",
       " ('..\\\\data\\\\non_overlapping_masks\\\\UTM10S_vld_ext.dat', 'UTM_10S_mask.shp'),\n",
       " ('..\\\\data\\\\non_overlapping_masks\\\\UTM11S_vld_ext.dat', 'UTM_11S_mask.shp')]"
      ]
     },
     "execution_count": 10,
     "metadata": {},
     "output_type": "execute_result"
    }
   ],
   "source": [
    "raster_locations = [os.path.join(\"..\", \"data\", \"non_overlapping_masks\", \"UTM\" + str(zone) + \"S_vld_ext.dat\") for zone in zones]\n",
    "save_name = [\"UTM_\" + str(zone) + \"S_mask.shp\" for zone in zones]\n",
    "\n",
    "merged = [(raster_locations[i], save_name[i]) for i in range(0, len(raster_locations))]\n",
    "merged"
   ]
  },
  {
   "cell_type": "code",
   "execution_count": null,
   "metadata": {},
   "outputs": [],
   "source": [
    "if __name__ == '__main__':\n",
    "    with Pool() as pool:\n",
    "        pool.starmap(raster_mask_to_shapefile, merged)"
   ]
  },
  {
   "cell_type": "code",
   "execution_count": 8,
   "metadata": {},
   "outputs": [
    {
     "name": "stderr",
     "output_type": "stream",
     "text": [
      "C:\\Users\\evanmuis.stu\\Miniconda3\\envs\\frag\\lib\\site-packages\\pyproj\\crs\\crs.py:53: FutureWarning: '+init=<authority>:<code>' syntax is deprecated. '<authority>:<code>' is the preferred initialization method. When making the change, be mindful of axis order changes: https://pyproj4.github.io/pyproj/stable/gotchas.html#axis-order-changes-in-proj-6\n",
      "  return _prepare_from_string(\" \".join(pjargs))\n"
     ]
    },
    {
     "name": "stdout",
     "output_type": "stream",
     "text": [
      "3.5316569805145264\n"
     ]
    },
    {
     "name": "stderr",
     "output_type": "stream",
     "text": [
      "C:\\Users\\evanmuis.stu\\Miniconda3\\envs\\frag\\lib\\site-packages\\pyproj\\crs\\crs.py:53: FutureWarning: '+init=<authority>:<code>' syntax is deprecated. '<authority>:<code>' is the preferred initialization method. When making the change, be mindful of axis order changes: https://pyproj4.github.io/pyproj/stable/gotchas.html#axis-order-changes-in-proj-6\n",
      "  return _prepare_from_string(\" \".join(pjargs))\n"
     ]
    },
    {
     "name": "stdout",
     "output_type": "stream",
     "text": [
      "5.2562315464019775\n"
     ]
    },
    {
     "name": "stderr",
     "output_type": "stream",
     "text": [
      "C:\\Users\\evanmuis.stu\\Miniconda3\\envs\\frag\\lib\\site-packages\\pyproj\\crs\\crs.py:53: FutureWarning: '+init=<authority>:<code>' syntax is deprecated. '<authority>:<code>' is the preferred initialization method. When making the change, be mindful of axis order changes: https://pyproj4.github.io/pyproj/stable/gotchas.html#axis-order-changes-in-proj-6\n",
      "  return _prepare_from_string(\" \".join(pjargs))\n"
     ]
    },
    {
     "name": "stdout",
     "output_type": "stream",
     "text": [
      "8.416698932647705\n"
     ]
    },
    {
     "name": "stderr",
     "output_type": "stream",
     "text": [
      "C:\\Users\\evanmuis.stu\\Miniconda3\\envs\\frag\\lib\\site-packages\\pyproj\\crs\\crs.py:53: FutureWarning: '+init=<authority>:<code>' syntax is deprecated. '<authority>:<code>' is the preferred initialization method. When making the change, be mindful of axis order changes: https://pyproj4.github.io/pyproj/stable/gotchas.html#axis-order-changes-in-proj-6\n",
      "  return _prepare_from_string(\" \".join(pjargs))\n"
     ]
    },
    {
     "name": "stdout",
     "output_type": "stream",
     "text": [
      "9.948768854141235\n",
      "9.649134159088135\n",
      "Shapefile Masks Generated\n",
      "37.11743140220642\n"
     ]
    },
    {
     "name": "stderr",
     "output_type": "stream",
     "text": [
      "C:\\Users\\evanmuis.stu\\Miniconda3\\envs\\frag\\lib\\site-packages\\pyproj\\crs\\crs.py:53: FutureWarning: '+init=<authority>:<code>' syntax is deprecated. '<authority>:<code>' is the preferred initialization method. When making the change, be mindful of axis order changes: https://pyproj4.github.io/pyproj/stable/gotchas.html#axis-order-changes-in-proj-6\n",
      "  return _prepare_from_string(\" \".join(pjargs))\n"
     ]
    }
   ],
   "source": [
    "start_time = time.time()\n",
    "for zone in zones:\n",
    "    raster_location = os.path.join(\"..\", \"data\", \"non_overlapping_masks\", \"UTM\" + str(zone) + \"S_vld_ext.dat\")\n",
    "    save_name = \"UTM_\" + str(zone) + \"S_mask.shp\"\n",
    "    raster_mask_to_shapefile(raster_location, outname = save_name)\n",
    "\n",
    "#clear_output()\n",
    "print(\"Shapefile Masks Generated\")"
   ]
  },
  {
   "cell_type": "code",
   "execution_count": 20,
   "metadata": {},
   "outputs": [],
   "source": [
    "num_total = len(variables) * len(years)\n",
    "num_total\n",
    "num_done = 1"
   ]
  },
  {
   "cell_type": "markdown",
   "metadata": {},
   "source": [
    "First: Clips rasters to the valid zonal pixels based on Txomin's mask.\n",
    "\n",
    "Then: Merges clipped rasters into a BC wide raster"
   ]
  },
  {
   "cell_type": "code",
   "execution_count": 22,
   "metadata": {},
   "outputs": [
    {
     "name": "stdout",
     "output_type": "stream",
     "text": [
      "Done\n"
     ]
    }
   ],
   "source": [
    "for item in years_variables[num_done - 1:]:\n",
    "    year = item[0]\n",
    "    variable = item[1]\n",
    "    print(str(num_done), \"/\", str(num_total))\n",
    "    print(year, variable)\n",
    "    \n",
    "    if variable in structure_variables:\n",
    "        rasters = [os.path.join(\"H:\\\\\", \"Structure\", \"UTM_\" + str(zone) + \"S\", variable, \"UTM_\" + str(zone) + \"S_\" + variable + \"_\" + str(year) + \".dat\") for zone in zones]\n",
    "    \n",
    "    if variable in vlce_variables:\n",
    "        rasters = [os.path.join(\"H:\\\\\", \"VLCE\", \"UTM_\" + str(zone) + \"S\", \"HMM\", \"LC_Class_HMM_\" + str(zone) + \"S_\" + str(year) + \".dat\") for zone in zones]\n",
    "        \n",
    "    if variable in utm_variables:\n",
    "        rasters = [os.path.join(\"H:\\\\\", \"utm\", \"UTM_\" + str(zone) + \"S\", \"Change_attribution_logic_rules\", \n",
    "                                variable + \"_UTM_\" + str(zone) + \"S_\" + str(year) + \".dat\") for zone in zones]\n",
    "    \n",
    "    masks = [os.path.join(\"..\", \"data\", \"non_overlapping_masks\", \"UTM_\" + str(zone) + \"S_mask.shp\") for zone in zones]\n",
    "    \n",
    "    clipped_rasters = []\n",
    "\n",
    "    for raster, mask in zip (rasters, masks):\n",
    "        print(raster, mask)\n",
    "        warp_options_clip = gdal.WarpOptions(format = \"GTiff\",\n",
    "                                        dstSRS = \"EPSG:3005\",\n",
    "                                        xRes = 30,\n",
    "                                        yRes = 30,\n",
    "                                        resampleAlg = \"near\",\n",
    "                                        cutlineDSName = mask,\n",
    "                                        cropToCutline = True)\n",
    "\n",
    "        zone = mask.split(\"_\")[3]\n",
    "\n",
    "        save_location = os.path.join(\"..\", \"scratch\", zone + \".tif\") \n",
    "        print(save_location)\n",
    "\n",
    "        gdal.Warp(save_location, raster, options = warp_options_clip)\n",
    "\n",
    "        clipped_rasters.append(save_location)\n",
    "\n",
    "    warped_save_location = os.path.join(\"H:\\\\\", \"Merged\", variable, \"BC_\" + variable + \"_\" + str(year) + \".tif\")\n",
    "    warp_options = gdal.WarpOptions(format = \"GTiff\",\n",
    "                      dstSRS = \"EPSG:3005\", #this is for BC, change to wherever you are\n",
    "                      xRes = 30, #spatial resolution, change to 5m for rapideye\n",
    "                      yRes = 30,\n",
    "                      resampleAlg = \"near\",\n",
    "                      srcNodata = 0, #this removes anything of value 0, so probably comment this out\n",
    "                                   )\n",
    "\n",
    "    print(\"Warping Together\")\n",
    "    \n",
    "    gdal.Warp(warped_save_location, clipped_rasters, options = warp_options)\n",
    "    \n",
    "    clear_output(True)\n",
    "    \n",
    "    num_done += 1\n",
    "print(\"Done\")"
   ]
  }
 ],
 "metadata": {
  "kernelspec": {
   "display_name": "Python 3",
   "language": "python",
   "name": "python3"
  },
  "language_info": {
   "codemirror_mode": {
    "name": "ipython",
    "version": 3
   },
   "file_extension": ".py",
   "mimetype": "text/x-python",
   "name": "python",
   "nbconvert_exporter": "python",
   "pygments_lexer": "ipython3",
   "version": "3.8.6"
  }
 },
 "nbformat": 4,
 "nbformat_minor": 4
}
