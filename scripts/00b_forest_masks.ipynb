{
 "cells": [
  {
   "cell_type": "code",
   "execution_count": 1,
   "metadata": {},
   "outputs": [],
   "source": [
    "# geospatial\n",
    "from osgeo import gdal, ogr, osr\n",
    "\n",
    "# base\n",
    "import numpy as np\n",
    "import os"
   ]
  },
  {
   "cell_type": "code",
   "execution_count": 2,
   "metadata": {},
   "outputs": [],
   "source": [
    "# folder locations\n",
    "scratch = os.path.join(\"H:\\\\\", \"scratch\")\n",
    "f_mask_locs = os.path.join(\"H:\\\\\", \"Merged\", \"forest_masks\")\n",
    "vlce_locs = os.path.join(\"H:\\\\\", \"Merged\", \"vlce\")"
   ]
  },
  {
   "cell_type": "code",
   "execution_count": 3,
   "metadata": {},
   "outputs": [],
   "source": [
    "vlces = os.listdir(vlce_locs)\n",
    "vlces = [os.path.join(vlce_locs, vlce) for vlce in vlces]"
   ]
  },
  {
   "cell_type": "code",
   "execution_count": 4,
   "metadata": {},
   "outputs": [],
   "source": [
    "for vlce in vlces:\n",
    "    year = vlce.split(\"_\")[-1][:-4]\n",
    "    filename = \"forest_mask-\" + str(year) + \".tif\"\n",
    "    save_loc = os.path.join(f_mask_locs, filename)\n",
    "\n",
    "    driver = gdal.GetDriverByName('GTiff')\n",
    "    file = gdal.Open(vlce)\n",
    "    band = file.GetRasterBand(1)\n",
    "    lista = band.ReadAsArray()\n",
    "    \n",
    "    if not os.path.isfile(save_loc):\n",
    "        # reclassification; forest classes (81, 210, 220, 230) are valid (1), else invalid (0)\n",
    "        lista[np.where((lista != 81) & (lista < 200))] = 0\n",
    "        lista[np.where((lista > 200) | (lista == 81))] = 1\n",
    "\n",
    "        # create new file\n",
    "        f_mask = driver.Create(save_loc, file.RasterXSize , file.RasterYSize , 1)\n",
    "        f_mask.GetRasterBand(1).WriteArray(lista)\n",
    "\n",
    "        # spatial ref system\n",
    "        proj = file.GetProjection()\n",
    "        georef = file.GetGeoTransform()\n",
    "        f_mask.SetProjection(proj)\n",
    "        f_mask.SetGeoTransform(georef)\n",
    "        f_mask.FlushCache()\n",
    "\n",
    "        # close files after being done with them because we aren't animals\n",
    "        # and we kinda need the memory\n",
    "        file = None\n",
    "        band = None\n",
    "        lista = None\n",
    "        f_mask = None"
   ]
  },
  {
   "cell_type": "code",
   "execution_count": 3,
   "metadata": {},
   "outputs": [],
   "source": [
    "# to create harvest mask\n",
    "# no pixels counted that were harvested recently (last ~35 years)\n",
    "h_mask_loc = os.path.join(\"H:\\\\\", \"Merged\", \"harvest_mask\", \"harvest_mask.tif\")\n",
    "if not os.path.isfile(h_mask_loc):\n",
    "    change = os.path.join(\"H:\\\\\", \"Merged\", \"Change_Attribution\", \"BC_Change_Attribution.tif\")\n",
    "\n",
    "    # reclassify change attribution into a harvest mask\n",
    "\n",
    "    driver = gdal.GetDriverByName('GTiff')\n",
    "    file = gdal.Open(change)\n",
    "    band = file.GetRasterBand(1)\n",
    "    lista = band.ReadAsArray()\n",
    "\n",
    "    # reclassification; harvest (2) is invalid, everything else is valid\n",
    "    lista[np.where(lista != 2)] = 1\n",
    "    lista[np.where(lista == 2) ] = 0\n",
    "\n",
    "    # create new file\n",
    "    h_mask = driver.Create(h_mask_loc, file.RasterXSize , file.RasterYSize , 1)\n",
    "    h_mask.GetRasterBand(1).WriteArray(lista)\n",
    "\n",
    "    # spatial ref system\n",
    "    proj = file.GetProjection()\n",
    "    georef = file.GetGeoTransform()\n",
    "    h_mask.SetProjection(proj)\n",
    "    h_mask.SetGeoTransform(georef)\n",
    "    h_mask.FlushCache()\n",
    "\n",
    "    # close files after being done with them because we aren't animals\n",
    "    # and we kinda need the memory\n",
    "    h_mask = None\n",
    "    file = None\n",
    "    lista = None"
   ]
  },
  {
   "cell_type": "code",
   "execution_count": null,
   "metadata": {},
   "outputs": [],
   "source": []
  }
 ],
 "metadata": {
  "kernelspec": {
   "display_name": "Python 3",
   "language": "python",
   "name": "python3"
  },
  "language_info": {
   "codemirror_mode": {
    "name": "ipython",
    "version": 3
   },
   "file_extension": ".py",
   "mimetype": "text/x-python",
   "name": "python",
   "nbconvert_exporter": "python",
   "pygments_lexer": "ipython3",
   "version": "3.8.6"
  }
 },
 "nbformat": 4,
 "nbformat_minor": 4
}
