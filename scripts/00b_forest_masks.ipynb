{
 "cells": [
  {
   "cell_type": "code",
   "execution_count": 21,
   "metadata": {},
   "outputs": [],
   "source": [
    "# geospatial\n",
    "from osgeo import gdal, ogr, osr\n",
    "import rasterio as rst\n",
    "\n",
    "# base\n",
    "import numpy as np\n",
    "import os"
   ]
  },
  {
   "cell_type": "code",
   "execution_count": 6,
   "metadata": {},
   "outputs": [],
   "source": [
    "# folder locations\n",
    "scratch = os.path.join(\"E:\\\\\", \"scratch\")\n",
    "f_mask_locs = os.path.join(\"E:\\\\\", \"Merged\", \"forest_masks\")\n",
    "vlce_locs = os.path.join(\"E:\\\\\", \"Merged\", \"vlce\")"
   ]
  },
  {
   "cell_type": "code",
   "execution_count": 7,
   "metadata": {},
   "outputs": [],
   "source": [
    "vlces = os.listdir(vlce_locs)\n",
    "vlces = [os.path.join(vlce_locs, vlce) for vlce in vlces]"
   ]
  },
  {
   "cell_type": "code",
   "execution_count": 25,
   "metadata": {},
   "outputs": [
    {
     "name": "stdout",
     "output_type": "stream",
     "text": [
      "H:\\Merged\\forest_masks\\forest_mask-1984.tif\n",
      "H:\\Merged\\forest_masks\\forest_mask-1985.tif\n",
      "H:\\Merged\\forest_masks\\forest_mask-1986.tif\n",
      "H:\\Merged\\forest_masks\\forest_mask-1987.tif\n",
      "H:\\Merged\\forest_masks\\forest_mask-1988.tif\n",
      "H:\\Merged\\forest_masks\\forest_mask-1989.tif\n",
      "H:\\Merged\\forest_masks\\forest_mask-1990.tif\n",
      "H:\\Merged\\forest_masks\\forest_mask-1991.tif\n",
      "H:\\Merged\\forest_masks\\forest_mask-1992.tif\n",
      "H:\\Merged\\forest_masks\\forest_mask-1993.tif\n",
      "H:\\Merged\\forest_masks\\forest_mask-1994.tif\n",
      "H:\\Merged\\forest_masks\\forest_mask-1995.tif\n",
      "H:\\Merged\\forest_masks\\forest_mask-1996.tif\n",
      "H:\\Merged\\forest_masks\\forest_mask-1997.tif\n",
      "H:\\Merged\\forest_masks\\forest_mask-1998.tif\n",
      "H:\\Merged\\forest_masks\\forest_mask-1999.tif\n",
      "H:\\Merged\\forest_masks\\forest_mask-2000.tif\n",
      "H:\\Merged\\forest_masks\\forest_mask-2001.tif\n",
      "H:\\Merged\\forest_masks\\forest_mask-2002.tif\n",
      "H:\\Merged\\forest_masks\\forest_mask-2003.tif\n",
      "H:\\Merged\\forest_masks\\forest_mask-2004.tif\n",
      "H:\\Merged\\forest_masks\\forest_mask-2005.tif\n",
      "H:\\Merged\\forest_masks\\forest_mask-2006.tif\n",
      "H:\\Merged\\forest_masks\\forest_mask-2007.tif\n",
      "H:\\Merged\\forest_masks\\forest_mask-2008.tif\n",
      "H:\\Merged\\forest_masks\\forest_mask-2009.tif\n",
      "H:\\Merged\\forest_masks\\forest_mask-2010.tif\n",
      "H:\\Merged\\forest_masks\\forest_mask-2011.tif\n",
      "H:\\Merged\\forest_masks\\forest_mask-2012.tif\n",
      "H:\\Merged\\forest_masks\\forest_mask-2013.tif\n",
      "H:\\Merged\\forest_masks\\forest_mask-2014.tif\n",
      "H:\\Merged\\forest_masks\\forest_mask-2015.tif\n",
      "H:\\Merged\\forest_masks\\forest_mask-2016.tif\n",
      "H:\\Merged\\forest_masks\\forest_mask-2017.tif\n",
      "H:\\Merged\\forest_masks\\forest_mask-2018.tif\n",
      "H:\\Merged\\forest_masks\\forest_mask-2019.tif\n"
     ]
    }
   ],
   "source": [
    "for vlce in vlces:\n",
    "    year = vlce.split(\"-\")[-1][:-4]\n",
    "    filename = \"forest_mask-\" + str(year) + \".tif\"\n",
    "    save_loc = os.path.join(f_mask_locs, filename)\n",
    "    print(save_loc)\n",
    "\n",
    "    driver = gdal.GetDriverByName('GTiff')\n",
    "    file = gdal.Open(vlce)\n",
    "    band = file.GetRasterBand(1)\n",
    "    lista = band.ReadAsArray()\n",
    "    \n",
    "    if not os.path.isfile(save_loc):\n",
    "        # reclassification; forest classes (81, 210, 220, 230) are valid (1), else invalid (0)\n",
    "        #lista[np.where((lista != 81) & (lista < 200))] = 0\n",
    "        #lista[np.where((lista > 200) | (lista == 81))] = 1\n",
    "        \n",
    "        lista[np.where(lista == 81)] = 1000\n",
    "        lista[np.where(lista > 201)] = 1000\n",
    "        lista[np.where(lista < 201)] = 0\n",
    "        lista[np.where(lista == 1000)] = 1\n",
    "\n",
    "        # create new file\n",
    "        f_mask = driver.Create(save_loc, file.RasterXSize, file.RasterYSize , 1)\n",
    "        f_mask.GetRasterBand(1).WriteArray(lista)\n",
    "\n",
    "        # spatial ref system\n",
    "        proj = file.GetProjection()\n",
    "        georef = file.GetGeoTransform()\n",
    "        f_mask.SetProjection(proj)\n",
    "        f_mask.SetGeoTransform(georef)\n",
    "        f_mask.FlushCache()\n",
    "\n",
    "        # close files after being done with them because we aren't animals\n",
    "        # and we kinda need the memory\n",
    "        file = None\n",
    "        band = None\n",
    "        lista = None\n",
    "        f_mask = None"
   ]
  },
  {
   "cell_type": "code",
   "execution_count": 3,
   "metadata": {},
   "outputs": [],
   "source": [
    "# to create harvest mask\n",
    "# no pixels counted that were harvested recently (last ~35 years)\n",
    "h_mask_loc = os.path.join(\"E:\\\\\", \"Merged\", \"harvest_mask\", \"harvest_mask.tif\")\n",
    "if not os.path.isfile(h_mask_loc):\n",
    "    change = os.path.join(\"E:\\\\\", \"Merged\", \"Change_Attribution\", \"BC_Change_Attribution.tif\")\n",
    "\n",
    "    # reclassify change attribution into a harvest mask\n",
    "\n",
    "    driver = gdal.GetDriverByName('GTiff')\n",
    "    file = gdal.Open(change)\n",
    "    band = file.GetRasterBand(1)\n",
    "    lista = band.ReadAsArray()\n",
    "\n",
    "    # reclassification; harvest (2) is invalid, everything else is valid\n",
    "    lista[np.where(lista != 2)] = 1\n",
    "    lista[np.where(lista == 2) ] = 0\n",
    "\n",
    "    # create new file\n",
    "    h_mask = driver.Create(h_mask_loc, file.RasterXSize , file.RasterYSize , 1)\n",
    "    h_mask.GetRasterBand(1).WriteArray(lista)\n",
    "\n",
    "    # spatial ref system\n",
    "    proj = file.GetProjection()\n",
    "    georef = file.GetGeoTransform()\n",
    "    h_mask.SetProjection(proj)\n",
    "    h_mask.SetGeoTransform(georef)\n",
    "    h_mask.FlushCache()\n",
    "\n",
    "    # close files after being done with them because we aren't animals\n",
    "    # and we kinda need the memory\n",
    "    h_mask = None\n",
    "    file = None\n",
    "    lista = None"
   ]
  },
  {
   "cell_type": "code",
   "execution_count": null,
   "metadata": {},
   "outputs": [],
   "source": []
  }
 ],
 "metadata": {
  "kernelspec": {
   "display_name": "Python 3 (ipykernel)",
   "language": "python",
   "name": "python3"
  },
  "language_info": {
   "codemirror_mode": {
    "name": "ipython",
    "version": 3
   },
   "file_extension": ".py",
   "mimetype": "text/x-python",
   "name": "python",
   "nbconvert_exporter": "python",
   "pygments_lexer": "ipython3",
   "version": "3.8.10"
  }
 },
 "nbformat": 4,
 "nbformat_minor": 4
}
