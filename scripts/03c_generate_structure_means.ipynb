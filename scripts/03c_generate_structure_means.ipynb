{
 "cells": [
  {
   "cell_type": "code",
   "execution_count": 8,
   "id": "a9d2a27b",
   "metadata": {},
   "outputs": [],
   "source": [
    "# base\n",
    "import pandas as pd\n",
    "import numpy as np\n",
    "import os, time\n",
    "from multiprocessing import Pool, cpu_count\n",
    "\n",
    "# my function\n",
    "from mosaic_rasters_functions import summarize_structure"
   ]
  },
  {
   "cell_type": "code",
   "execution_count": 2,
   "id": "e0cf75b4",
   "metadata": {},
   "outputs": [],
   "source": [
    "# generate list of csv files to iterate through\n",
    "csv_dir = os.path.join(\"..\", \"data\", \"all_vars\", \"sampled\")\n",
    "csv_list = []\n",
    "for file in os.listdir(csv_dir):\n",
    "    if file.endswith(\".csv\"):\n",
    "        csv_list.append(os.path.join(csv_dir, file))"
   ]
  },
  {
   "cell_type": "code",
   "execution_count": 10,
   "id": "0a9e1874",
   "metadata": {},
   "outputs": [
    {
     "name": "stdout",
     "output_type": "stream",
     "text": [
      "59.80458617210388\n"
     ]
    }
   ],
   "source": [
    "start_time = time.time()\n",
    "if __name__ == '__main__':\n",
    "    with Pool() as pool:\n",
    "        out_dfs = pool.map(summarize_structure, csv_list)\n",
    "        \n",
    "pd.concat(out_dfs).to_csv(os.path.join(\"..\", \"data\", \"structure_means.csv\"))\n",
    "print(time.time() - start_time)"
   ]
  },
  {
   "cell_type": "code",
   "execution_count": null,
   "id": "51135789",
   "metadata": {},
   "outputs": [],
   "source": [
    "def summarize_structure(file):\n",
    "    print(file)\n",
    "\n",
    "    loaded = pd.read_csv(file)\n",
    "    csv = loaded[[\"protected\", \"subzone\", \"vlce\", \"elev_cv\", \"loreys_height\", \"percentage_first_returns_above_2m\", \"total_biomass\"]]\n",
    "    \n",
    "    # removal of harvested and non-forest pixels is now done in the sampling step (R)\n",
    "    #csv = csv[csv[\"vlce\"].isin([230, 220, 210, 81])] # use only forested pixels\n",
    "    #csv = csv[csv[\"Change_Attribution\"] != 2] # remove harvested pixels\n",
    "    csv = csv[csv[\"elev_cv\"] < 1]\n",
    "    \n",
    "    output = csv.groupby([\"protected\", \"subzone\"]).agg(\n",
    "        mean_elev_cv = (\"elev_cv\", \"mean\"),\n",
    "        mean_loreys_height = (\"loreys_height\", \"mean\"),\n",
    "        mean_percentage_first_returns_above_2m = (\"percentage_first_returns_above_2m\", \"mean\"),\n",
    "        mean_total_biomass = (\"total_biomass\", \"mean\"),\n",
    "        sd_elev_cv = (\"elev_cv\", np.std),\n",
    "        sd_loreys_height = (\"loreys_height\", np.std),\n",
    "        sd_percentage_first_returns_above_2m = (\"percentage_first_returns_above_2m\", np.std),\n",
    "        sd_total_biomass = (\"total_biomass\", np.std),\n",
    "        count = (\"protected\", \"count\"))\n",
    "    \n",
    "    return output"
   ]
  },
  {
   "cell_type": "code",
   "execution_count": 9,
   "id": "5805f478",
   "metadata": {},
   "outputs": [
    {
     "data": {
      "text/plain": [
       "6.048"
      ]
     },
     "execution_count": 9,
     "metadata": {},
     "output_type": "execute_result"
    }
   ],
   "source": [
    "file = csv_list[0]\n",
    "loaded = pd.read_csv(file)\n",
    "csv = loaded[[\"protected\", \"subzone\", \"vlce\", \"elev_cv\", \"loreys_height\", \"percentage_first_returns_above_2m\", \"total_biomass\"]]\n",
    "np.percentile(csv[\"loreys_height\"], 2.5)\n",
    "np.percentile(csv)"
   ]
  },
  {
   "cell_type": "code",
   "execution_count": null,
   "id": "460bffee",
   "metadata": {},
   "outputs": [],
   "source": []
  }
 ],
 "metadata": {
  "kernelspec": {
   "display_name": "Python 3 (ipykernel)",
   "language": "python",
   "name": "python3"
  },
  "language_info": {
   "codemirror_mode": {
    "name": "ipython",
    "version": 3
   },
   "file_extension": ".py",
   "mimetype": "text/x-python",
   "name": "python",
   "nbconvert_exporter": "python",
   "pygments_lexer": "ipython3",
   "version": "3.8.10"
  }
 },
 "nbformat": 4,
 "nbformat_minor": 5
}
