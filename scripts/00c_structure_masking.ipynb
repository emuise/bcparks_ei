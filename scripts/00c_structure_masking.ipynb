{
 "cells": [
  {
   "cell_type": "code",
   "execution_count": 1,
   "metadata": {},
   "outputs": [],
   "source": [
    "# geospatial\n",
    "import rasterio\n",
    "\n",
    "# base\n",
    "import numpy as np\n",
    "import os\n",
    "import itertools\n",
    "from IPython.display import clear_output"
   ]
  },
  {
   "cell_type": "code",
   "execution_count": 2,
   "metadata": {},
   "outputs": [],
   "source": [
    "# folder locations\n",
    "scratch = os.path.join(\"H:\\\\\", \"scratch\")\n",
    "f_mask_locs = os.path.join(\"H:\\\\\", \"Merged\", \"forest_masks\")\n",
    "masked_structure_locs = os.path.join(\"H:\\\\\", \"Merged\", \"masked_structure\")"
   ]
  },
  {
   "cell_type": "code",
   "execution_count": 3,
   "metadata": {},
   "outputs": [],
   "source": [
    "structure_vars = [\"percentage_first_returns_above_2m\", \"loreys_height\", \"total_biomass\"]\n",
    "years = range(1984, 2020)"
   ]
  },
  {
   "cell_type": "code",
   "execution_count": 4,
   "metadata": {},
   "outputs": [],
   "source": [
    "def mask_structure(variable, year):\n",
    "    save_location = os.path.join(masked_structure_locs, variable, \"masked-\" + variable + \"-\" + str(year) + \".tif\")\n",
    "    \n",
    "    structure_loc = os.path.join(\"H:\\\\\", \"Merged\", variable, \"BC-\" + variable + \"-\" + str(year) + \".tif\")\n",
    "    mask_loc = os.path.join(f_mask_locs, \"forest_mask-\" + str(year) + \".tif\")\n",
    "\n",
    "    if not os.path.isfile(save_location):\n",
    "\n",
    "        structure = rasterio.open(structure_loc)\n",
    "        structure_data = structure.read(1)\n",
    "        meta = structure.meta.copy()\n",
    "\n",
    "        mask = rasterio.open(mask_loc)\n",
    "        mask_data = mask.read(1)\n",
    "\n",
    "        masked_structure = structure_data * mask_data\n",
    "\n",
    "        with rasterio.open(save_location, \"w+\", **meta) as out:\n",
    "                out_arr = out.read(1)\n",
    "\n",
    "                out.write_band(1, masked_structure)"
   ]
  },
  {
   "cell_type": "code",
   "execution_count": 5,
   "metadata": {},
   "outputs": [
    {
     "name": "stdout",
     "output_type": "stream",
     "text": [
      "total_biomass 2015\n",
      "3 / 3\n"
     ]
    }
   ],
   "source": [
    "num_total = len(structure_vars) * len([2015])\n",
    "num_done = 0\n",
    "product = itertools.product(structure_vars, [2015])\n",
    "\n",
    "for i in product:\n",
    "    print(i[0], i[1])\n",
    "    print(num_done + 1, \"/\", num_total)\n",
    "    mask_structure(i[0], i[1])\n",
    "    clear_output(True)\n",
    "    num_done += 1"
   ]
  },
  {
   "cell_type": "code",
   "execution_count": 6,
   "metadata": {},
   "outputs": [
    {
     "name": "stdout",
     "output_type": "stream",
     "text": [
      "total_biomass 2019\n",
      "108 / 108\n"
     ]
    }
   ],
   "source": [
    "num_total = len(structure_vars) * len(years)\n",
    "num_done = 0\n",
    "product = itertools.product(structure_vars, years)\n",
    "\n",
    "for i in product:\n",
    "    print(i[0], i[1])\n",
    "    print(num_done + 1, \"/\", num_total)\n",
    "    mask_structure(i[0], i[1])\n",
    "    clear_output(True)\n",
    "    num_done += 1"
   ]
  },
  {
   "cell_type": "code",
   "execution_count": null,
   "metadata": {},
   "outputs": [],
   "source": []
  }
 ],
 "metadata": {
  "kernelspec": {
   "display_name": "Python 3",
   "language": "python",
   "name": "python3"
  },
  "language_info": {
   "codemirror_mode": {
    "name": "ipython",
    "version": 3
   },
   "file_extension": ".py",
   "mimetype": "text/x-python",
   "name": "python",
   "nbconvert_exporter": "python",
   "pygments_lexer": "ipython3",
   "version": "3.8.8"
  }
 },
 "nbformat": 4,
 "nbformat_minor": 4
}
